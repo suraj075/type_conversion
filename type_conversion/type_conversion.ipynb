{
 "cells": [
  {
   "cell_type": "code",
   "execution_count": 1,
   "id": "6b27542d-d580-418c-913d-b7a696f6ade1",
   "metadata": {},
   "outputs": [
    {
     "name": "stdout",
     "output_type": "stream",
     "text": [
      "<class 'int'>\n",
      "4.0\n"
     ]
    }
   ],
   "source": [
    "a = 4\n",
    "print(type(a))\n",
    "print(float(a))"
   ]
  },
  {
   "cell_type": "code",
   "execution_count": 2,
   "id": "37975705-0cfa-4181-97b1-eb3e3f432e34",
   "metadata": {},
   "outputs": [
    {
     "name": "stdout",
     "output_type": "stream",
     "text": [
      "4\n"
     ]
    }
   ],
   "source": [
    "a = 4.9\n",
    "print(int(a))"
   ]
  },
  {
   "cell_type": "code",
   "execution_count": 3,
   "id": "ca5960df-6ad3-4e7b-b00e-40b4ba11a79d",
   "metadata": {},
   "outputs": [
    {
     "name": "stdout",
     "output_type": "stream",
     "text": [
      "609\n",
      "<class 'str'>\n"
     ]
    }
   ],
   "source": [
    "a =609\n",
    "string_a = str(a)\n",
    "print(string_a)\n",
    "print(type(string_a))"
   ]
  },
  {
   "cell_type": "code",
   "execution_count": 4,
   "id": "f7920eb1-efc3-47d1-9b7f-c3279cd9b0c2",
   "metadata": {},
   "outputs": [
    {
     "name": "stdout",
     "output_type": "stream",
     "text": [
      "<class 'list'>\n",
      "(1, 2, 3, 4, 5, 6, 7)\n",
      "<class 'tuple'>\n"
     ]
    }
   ],
   "source": [
    "list_a = [1,2,3,4,5,6,7]\n",
    "print(type(list_a))\n",
    "tuple_a = tuple(list_a)\n",
    "print(tuple_a)\n",
    "print(type(tuple_a))"
   ]
  },
  {
   "cell_type": "code",
   "execution_count": 5,
   "id": "71774927-4ca5-4fd1-b15c-af02b47425ea",
   "metadata": {},
   "outputs": [
    {
     "name": "stdout",
     "output_type": "stream",
     "text": [
      "<class 'tuple'>\n",
      "[1, 4.4, 5, 7, 'd', 5]\n",
      "<class 'list'>\n"
     ]
    }
   ],
   "source": [
    "tuple_b = (1,4.4,5,7,'d',5)\n",
    "print(type(tuple_b))\n",
    "list_b = list(tuple_b)\n",
    "print(list_b)\n",
    "print(type(list_b))"
   ]
  },
  {
   "cell_type": "code",
   "execution_count": 6,
   "id": "ea881509-e20a-47d9-90e4-4e884c26ed1a",
   "metadata": {},
   "outputs": [
    {
     "name": "stdout",
     "output_type": "stream",
     "text": [
      "1011\n"
     ]
    }
   ],
   "source": [
    "decimal_a = 11\n",
    "binary_a = bin(decimal_a)[2:]\n",
    "print(binary_a)"
   ]
  },
  {
   "cell_type": "code",
   "execution_count": null,
   "id": "34e73871-3cb2-44f9-955c-add040921baf",
   "metadata": {},
   "outputs": [],
   "source": []
  }
 ],
 "metadata": {
  "kernelspec": {
   "display_name": "Python 3 (ipykernel)",
   "language": "python",
   "name": "python3"
  },
  "language_info": {
   "codemirror_mode": {
    "name": "ipython",
    "version": 3
   },
   "file_extension": ".py",
   "mimetype": "text/x-python",
   "name": "python",
   "nbconvert_exporter": "python",
   "pygments_lexer": "ipython3",
   "version": "3.10.8"
  }
 },
 "nbformat": 4,
 "nbformat_minor": 5
}
